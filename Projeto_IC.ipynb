{
 "cells": [
  {
   "cell_type": "markdown",
   "metadata": {
    "id": "eTnJjpcVhlXg"
   },
   "source": [
    "# Projeto IC"
   ]
  },
  {
   "cell_type": "markdown",
   "metadata": {
    "id": "77jQJFN5hrCi"
   },
   "source": [
    "Import das bibliotecas necessárias para a execução das rotinas em python"
   ]
  },
  {
   "cell_type": "code",
   "execution_count": 30,
   "metadata": {
    "colab": {
     "base_uri": "https://localhost:8080/"
    },
    "id": "OA-dui6Dh038",
    "outputId": "de5d2d56-7368-4f06-dc3f-1a87037af4b4"
   },
   "outputs": [],
   "source": [
    "import time\n",
    "import numpy as np\n",
    "import random"
   ]
  },
  {
   "cell_type": "markdown",
   "metadata": {
    "id": "36lSrdMClgjF"
   },
   "source": [
    "Não é mais necessário gerar uma malha por fora utilizando o Gmsh, agora apenas é necessário os centroides\n"
   ]
  },
  {
   "cell_type": "code",
   "execution_count": 31,
   "metadata": {},
   "outputs": [],
   "source": [
    "# Geração de centroides (Função de Cícero)\n",
    "def generate_centroids_areas_and_adjacencies(H, V, A):\n",
    "    block_num=[H, V, A] # numero de blocos\n",
    "    block_size=[1, 1, 1] # considerado constante aqui (tamanho do bloco)\n",
    "    initial_point=[0.0, 0.0, 0.0] # considerado constante aqui (ponto inicial)\n",
    "    ms = np.mgrid[initial_point[0]+0.5*block_size[0]:initial_point[0]+(block_num[0]+0.5)*block_size[0]:block_size[0],\n",
    "                  initial_point[1]+0.5*block_size[1]:initial_point[1]+(block_num[1]+0.5)*block_size[1]:block_size[1],\n",
    "                  initial_point[2]+0.5*block_size[2]:initial_point[2]+(block_num[2]+0.5)*block_size[2]:block_size[2]]\n",
    "\n",
    "    ms = ms.flatten()\n",
    "    return ms.reshape(3,int(ms.size/3)).T"
   ]
  },
  {
   "cell_type": "markdown",
   "metadata": {},
   "source": [
    "Essa função também vai ser utilizada para criar os niveis"
   ]
  },
  {
   "cell_type": "markdown",
   "metadata": {
    "id": "qvgB085PbJ55"
   },
   "source": [
    "Criando a classe que armazena a malha e faz a divisão para a malha grossa e malha dual (Ajustada para a forma que Cícero faz, mas vetorizada, e ficou mais rápida que a anterior)"
   ]
  },
  {
   "cell_type": "code",
   "execution_count": 32,
   "metadata": {
    "id": "eMm_cTbB6wg8"
   },
   "outputs": [],
   "source": [
    "class MeshDataStructure:\n",
    "  def __init__(self):\n",
    "    self.dual = None\n",
    "    self.Grossa_Index = None\n",
    "    self.Grossa_Size = None\n",
    "    self.nextH = None\n",
    "    self.nextV = None\n",
    "    self.nextA = None\n",
    "\n",
    "  def divide_mesh(self, centroids, nX, nY, nZ):\n",
    "\n",
    "    maxs = centroids.max(axis=0) # [max x, max y, max z]\n",
    "    mins = centroids.min(axis=0) # [min x, min y, min z] -> max - min = [H, V, A]\n",
    "    cr1 = np.array([nX, nY, nZ])\n",
    "    n_blocks = np.array(maxs - mins)\n",
    "    n_duals = n_blocks//cr1 + 1\n",
    "    second_line = (n_blocks-(n_duals-1)*cr1)//2\n",
    "    xd=[]\n",
    "    for i in range(3):\n",
    "        xd.append(np.arange(second_line[i]+cr1[i], (n_duals[i]-1)*cr1[i],cr1[i]))\n",
    "        if len(xd[i])>0:\n",
    "            xd[i]=np.unique(np.concatenate([[mins[i], maxs[i]],(xd[i]+0.5)]))\n",
    "        else:\n",
    "            xd[i]=np.unique(np.array([mins[i], maxs[i]]))\n",
    "    d=np.zeros(len(centroids))\n",
    "\n",
    "    for i in range(3):\n",
    "        d += np.isin(centroids[:,i],xd[i])\n",
    "\n",
    "    dual=np.int16(d)\n",
    "\n",
    "    volumes=np.arange(len(centroids))\n",
    "    Grossa_Index=-np.ones_like(volumes)\n",
    "    # X primal\n",
    "    xp=np.array(mins[0]-1)\n",
    "    xp=np.append(xp,(xd[0][:-1]+xd[0][1:])/2)\n",
    "    xp=np.append(xp,maxs[0]+1)\n",
    "    # Y primal\n",
    "    yp=np.array(mins[1]-1)\n",
    "    yp=np.append(yp,(xd[1][:-1]+xd[1][1:])/2)\n",
    "    yp=np.append(yp,maxs[1]+1)\n",
    "    # Z primal  \n",
    "    zp=np.array(mins[2]-1)\n",
    "    zp=np.append(zp,(xd[2][:-1]+xd[2][1:])/2)\n",
    "    zp=np.append(zp,maxs[2]+1)\n",
    "    # Gerando os indices Fina->Primal (Vetorizando o código de Cícero)\n",
    "    # Mapeia cada coordenada dos centroides para um índice de célula usando digitize\n",
    "    x_idx = np.digitize(centroids[:, 0], xp) - 1\n",
    "    y_idx = np.digitize(centroids[:, 1], yp) - 1\n",
    "    z_idx = np.digitize(centroids[:, 2], zp) - 1\n",
    "\n",
    "    # Calcula índice linear da célula Grossa_Index diretamente\n",
    "    Grossa_Index = x_idx * (len(yp) - 1) * (len(zp) - 1) + y_idx * (len(zp) - 1) + z_idx\n",
    "\n",
    "    self.nextH = (len(xp)-1)\n",
    "    self.nextV = (len(yp)-1)\n",
    "    self.nextA = (len(zp)-1)\n",
    "    self.Grossa_Size = self.nextH * self.nextV * self.nextA\n",
    "    self.dual = dual\n",
    "    self.Grossa_Index = Grossa_Index"
   ]
  },
  {
   "cell_type": "markdown",
   "metadata": {},
   "source": [
    "Classe para armazenar mais de um nível e gerar os IDs NU-ADM"
   ]
  },
  {
   "cell_type": "code",
   "execution_count": 33,
   "metadata": {},
   "outputs": [],
   "source": [
    "class NUADM_ID:\n",
    "    def __init__(self, nX_all, nY_all, nZ_all = None, niveis = 2):\n",
    "        self.nX = nX_all\n",
    "        self.nY = nY_all\n",
    "        self.nZ = nZ_all\n",
    "        self.levels = niveis\n",
    "        self.mesh_level = []\n",
    "        self.mapping = []\n",
    "        self.index_atual = 0\n",
    "        self.ids = None\n",
    "        self.id_NUADM = None\n",
    "        self.get_index_vector = None\n",
    "        self.len_centroids = None\n",
    "        \n",
    "    def generate_levels(self, centroids):\n",
    "        already_ones = False\n",
    "        self.len_centroids = len(centroids)\n",
    "        self.get_index_vector = np.arange(self.len_centroids)\n",
    "\n",
    "        # Caso o primeiro nível seja 2D (nZ[0] = 1), o nZ deve sempre ser 1, e se for diferente de 1, seta para 1\n",
    "        if self.nZ is None or self.nZ[0] == 1:\n",
    "            self.nZ = np.ones(self.levels - 1)\n",
    "            already_ones = True\n",
    "\n",
    "        # Inicializa o nivel 0\n",
    "        first = MeshDataStructure()\n",
    "        first.divide_mesh(centroids, self.nX[0], self.nY[0], self.nZ[0])\n",
    "        self.mesh_level.append(first)\n",
    "        # Inicializa o mapeamento de indices de nivel 0: fina -> primal 0 (já existe o mapeamento para o nivel 0)\n",
    "        self.mapping.append(self.mesh_level[0].Grossa_Index)\n",
    "\n",
    "        # Inicializa os próximos níveis\n",
    "        for i in range(self.levels - 2):\n",
    "            nextH = self.mesh_level[i].nextH\n",
    "            nextV = self.mesh_level[i].nextV\n",
    "            nextA = self.mesh_level[i].nextA\n",
    "            # Garantir que caso o próximo nível seja 2D, o nZ seja 1\n",
    "            if nextA == 1 and not already_ones:\n",
    "                self.nZ = np.ones(self.levels - 1)\n",
    "                already_ones = True\n",
    "\n",
    "            centroids_grossa = generate_centroids_areas_and_adjacencies(nextH, nextV, nextA)\n",
    "            new = MeshDataStructure()\n",
    "            new.divide_mesh(centroids_grossa, self.nX[i+1], self.nY[i+1], self.nZ[i+1])\n",
    "            self.mesh_level.append(new)\n",
    "\n",
    "            # criando o mapeamento de indices de níveis > 0: fina -> primal 0 -> primal 1...\n",
    "            index = self.mapping[0]\n",
    "            for j in range(i+1):\n",
    "                index = self.mesh_level[j+1].Grossa_Index[index]\n",
    "            self.mapping.append(index)\n",
    "\n",
    "        print('done generating levels')\n",
    "\n",
    "    def generate_ids(self, level_vector):\n",
    "        # inicializando vetor de ids NU-ADM\n",
    "        self.id_NUADM = np.full(self.len_centroids, -1)\n",
    "        self.ids = [np.full(lvl.Grossa_Size, -1) for lvl in self.mesh_level]\n",
    "        print('ids initialized')\n",
    "        \n",
    "        index_0 = self.get_index_vector[level_vector == 0]\n",
    "        self.id_NUADM[index_0] = np.arange(len(index_0))\n",
    "        self.index_atual += len(index_0)\n",
    "\n",
    "        for level in range(1, self.levels):\n",
    "            index_level = self.get_index_vector[level_vector == level]\n",
    "            grossa_index = np.unique(self.mapping[level - 1][index_level])\n",
    "            self.ids[level - 1][grossa_index] = np.arange(self.index_atual, self.index_atual + len(grossa_index))\n",
    "            self.id_NUADM[index_level] = self.ids[level - 1][self.mapping[level - 1][index_level]]\n",
    "            self.index_atual += len(grossa_index)\n",
    "\n",
    "    def validate(self):\n",
    "        print(f'levels: {self.levels}')\n",
    "        print(f'level 0: {len(self.get_index_vector)}')\n",
    "        for i in range(self.levels - 1):\n",
    "          print(f'level {i+1}: {self.mesh_level[i].Grossa_Size}')"
   ]
  },
  {
   "cell_type": "markdown",
   "metadata": {},
   "source": [
    "Gerando as coisas que vão vir prontas"
   ]
  },
  {
   "cell_type": "code",
   "execution_count": 34,
   "metadata": {},
   "outputs": [
    {
     "name": "stdout",
     "output_type": "stream",
     "text": [
      "Generating level_vector\n",
      "Done\n",
      "Generating centroids\n",
      "Done\n"
     ]
    }
   ],
   "source": [
    "# Setando para gerar os centroides, mas vou pegar a partir dos centroides que vou receber de cícero\n",
    "A = 100\n",
    "V = 100\n",
    "H = 2000\n",
    "\n",
    "# Recebo pronto\n",
    "print('Generating level_vector')\n",
    "vector = []\n",
    "for i in range(H * V * A):\n",
    "    vector.append(random.randint(0, 2))\n",
    "vector = np.array(vector)\n",
    "print('Done')\n",
    "\n",
    "# Recebo pronto\n",
    "print('Generating centroids')\n",
    "centroids = generate_centroids_areas_and_adjacencies(H, V, A)\n",
    "print('Done')\n",
    "\n",
    "# Recebo pronto (Acho)\n",
    "# nX = [3, 3, 3, 3]\n",
    "# nY = [3, 3, 3, 3]\n",
    "# nZ = [3, 3, 3, 3]"
   ]
  },
  {
   "cell_type": "markdown",
   "metadata": {},
   "source": [
    "O processamento de fato, onde é feita a escolha do numero de niveis e a criação dos níveis"
   ]
  },
  {
   "cell_type": "code",
   "execution_count": 35,
   "metadata": {},
   "outputs": [
    {
     "name": "stdout",
     "output_type": "stream",
     "text": [
      "done generating levels\n",
      "ids initialized\n",
      "Done in 12.5795 seconds\n",
      "levels: 5\n",
      "level 0: 20000000\n",
      "level 1: 160000\n",
      "level 2: 1280\n",
      "level 3: 64\n",
      "level 4: 16\n"
     ]
    }
   ],
   "source": [
    "# Processamento\n",
    "# print('Start Processing')\n",
    "nX = [5, 5, 5, 5]\n",
    "nY = [5, 5, 5, 5]\n",
    "nZ = [5, 5, 5, 5]\n",
    "init = time.time()\n",
    "sla = NUADM_ID(nX, nY, nZ, niveis=5)\n",
    "sla.generate_levels(centroids)\n",
    "sla.generate_ids(vector)\n",
    "fim = time.time()\n",
    "print(f'Done in {fim-init :.4f} seconds')\n",
    "sla.validate()"
   ]
  }
 ],
 "metadata": {
  "colab": {
   "provenance": []
  },
  "kernelspec": {
   "display_name": ".virt",
   "language": "python",
   "name": "python3"
  },
  "language_info": {
   "codemirror_mode": {
    "name": "ipython",
    "version": 3
   },
   "file_extension": ".py",
   "mimetype": "text/x-python",
   "name": "python",
   "nbconvert_exporter": "python",
   "pygments_lexer": "ipython3",
   "version": "3.13.2"
  }
 },
 "nbformat": 4,
 "nbformat_minor": 0
}
